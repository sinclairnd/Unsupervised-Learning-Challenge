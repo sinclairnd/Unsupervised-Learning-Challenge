{
 "cells": [
  {
   "cell_type": "code",
   "execution_count": 16,
   "id": "d1364119",
   "metadata": {},
   "outputs": [],
   "source": [
    "# Dependencies\n",
    "import pandas as pd\n",
    "import numpy as np"
   ]
  },
  {
   "cell_type": "markdown",
   "id": "b86d6ca3",
   "metadata": {},
   "source": [
    "# Read CryptoCompare CSV into pandas"
   ]
  },
  {
   "cell_type": "code",
   "execution_count": 2,
   "id": "1400e3ed",
   "metadata": {},
   "outputs": [
    {
     "data": {
      "text/html": [
       "<div>\n",
       "<style scoped>\n",
       "    .dataframe tbody tr th:only-of-type {\n",
       "        vertical-align: middle;\n",
       "    }\n",
       "\n",
       "    .dataframe tbody tr th {\n",
       "        vertical-align: top;\n",
       "    }\n",
       "\n",
       "    .dataframe thead th {\n",
       "        text-align: right;\n",
       "    }\n",
       "</style>\n",
       "<table border=\"1\" class=\"dataframe\">\n",
       "  <thead>\n",
       "    <tr style=\"text-align: right;\">\n",
       "      <th></th>\n",
       "      <th>Unnamed: 0</th>\n",
       "      <th>CoinName</th>\n",
       "      <th>Algorithm</th>\n",
       "      <th>IsTrading</th>\n",
       "      <th>ProofType</th>\n",
       "      <th>TotalCoinsMined</th>\n",
       "      <th>TotalCoinSupply</th>\n",
       "    </tr>\n",
       "  </thead>\n",
       "  <tbody>\n",
       "    <tr>\n",
       "      <th>0</th>\n",
       "      <td>42</td>\n",
       "      <td>42 Coin</td>\n",
       "      <td>Scrypt</td>\n",
       "      <td>True</td>\n",
       "      <td>PoW/PoS</td>\n",
       "      <td>4.199995e+01</td>\n",
       "      <td>42</td>\n",
       "    </tr>\n",
       "    <tr>\n",
       "      <th>1</th>\n",
       "      <td>365</td>\n",
       "      <td>365Coin</td>\n",
       "      <td>X11</td>\n",
       "      <td>True</td>\n",
       "      <td>PoW/PoS</td>\n",
       "      <td>NaN</td>\n",
       "      <td>2300000000</td>\n",
       "    </tr>\n",
       "    <tr>\n",
       "      <th>2</th>\n",
       "      <td>404</td>\n",
       "      <td>404Coin</td>\n",
       "      <td>Scrypt</td>\n",
       "      <td>True</td>\n",
       "      <td>PoW/PoS</td>\n",
       "      <td>1.055185e+09</td>\n",
       "      <td>532000000</td>\n",
       "    </tr>\n",
       "    <tr>\n",
       "      <th>3</th>\n",
       "      <td>611</td>\n",
       "      <td>SixEleven</td>\n",
       "      <td>SHA-256</td>\n",
       "      <td>True</td>\n",
       "      <td>PoW</td>\n",
       "      <td>NaN</td>\n",
       "      <td>611000</td>\n",
       "    </tr>\n",
       "    <tr>\n",
       "      <th>4</th>\n",
       "      <td>808</td>\n",
       "      <td>808</td>\n",
       "      <td>SHA-256</td>\n",
       "      <td>True</td>\n",
       "      <td>PoW/PoS</td>\n",
       "      <td>0.000000e+00</td>\n",
       "      <td>0</td>\n",
       "    </tr>\n",
       "  </tbody>\n",
       "</table>\n",
       "</div>"
      ],
      "text/plain": [
       "  Unnamed: 0   CoinName Algorithm  IsTrading ProofType  TotalCoinsMined  \\\n",
       "0         42    42 Coin    Scrypt       True   PoW/PoS     4.199995e+01   \n",
       "1        365    365Coin       X11       True   PoW/PoS              NaN   \n",
       "2        404    404Coin    Scrypt       True   PoW/PoS     1.055185e+09   \n",
       "3        611  SixEleven   SHA-256       True       PoW              NaN   \n",
       "4        808        808   SHA-256       True   PoW/PoS     0.000000e+00   \n",
       "\n",
       "  TotalCoinSupply  \n",
       "0              42  \n",
       "1      2300000000  \n",
       "2       532000000  \n",
       "3          611000  \n",
       "4               0  "
      ]
     },
     "execution_count": 2,
     "metadata": {},
     "output_type": "execute_result"
    }
   ],
   "source": [
    "df = pd.read_csv(\"crypto_data.csv\")\n",
    "df.head()"
   ]
  },
  {
   "cell_type": "code",
   "execution_count": 14,
   "id": "41e5af64",
   "metadata": {},
   "outputs": [
    {
     "data": {
      "text/plain": [
       "array([dtype('O'), dtype('O'), dtype('O'), dtype('float64'), dtype('O')],\n",
       "      dtype=object)"
      ]
     },
     "execution_count": 14,
     "metadata": {},
     "output_type": "execute_result"
    }
   ],
   "source": [
    "df.dtypes.values"
   ]
  },
  {
   "cell_type": "markdown",
   "id": "fd355641",
   "metadata": {},
   "source": [
    "# Filter for currencies currently being traded"
   ]
  },
  {
   "cell_type": "code",
   "execution_count": 4,
   "id": "8ab73fb7",
   "metadata": {},
   "outputs": [],
   "source": [
    "df = df[df[\"IsTrading\"]]"
   ]
  },
  {
   "cell_type": "markdown",
   "id": "b0518336",
   "metadata": {},
   "source": [
    "# Drop IsTrading column from the data frame"
   ]
  },
  {
   "cell_type": "code",
   "execution_count": 8,
   "id": "5f350d77",
   "metadata": {},
   "outputs": [],
   "source": [
    "df.drop(\"IsTrading\", axis = 1, inplace = True)"
   ]
  },
  {
   "cell_type": "markdown",
   "id": "4c881af8",
   "metadata": {},
   "source": [
    "# Remove all rows with at least one null value"
   ]
  },
  {
   "cell_type": "code",
   "execution_count": 9,
   "id": "fc6e2875",
   "metadata": {},
   "outputs": [],
   "source": [
    "df.dropna(inplace = True)"
   ]
  },
  {
   "cell_type": "code",
   "execution_count": 10,
   "id": "5a27a922",
   "metadata": {},
   "outputs": [
    {
     "data": {
      "text/html": [
       "<div>\n",
       "<style scoped>\n",
       "    .dataframe tbody tr th:only-of-type {\n",
       "        vertical-align: middle;\n",
       "    }\n",
       "\n",
       "    .dataframe tbody tr th {\n",
       "        vertical-align: top;\n",
       "    }\n",
       "\n",
       "    .dataframe thead th {\n",
       "        text-align: right;\n",
       "    }\n",
       "</style>\n",
       "<table border=\"1\" class=\"dataframe\">\n",
       "  <thead>\n",
       "    <tr style=\"text-align: right;\">\n",
       "      <th></th>\n",
       "      <th>Unnamed: 0</th>\n",
       "      <th>CoinName</th>\n",
       "      <th>Algorithm</th>\n",
       "      <th>ProofType</th>\n",
       "      <th>TotalCoinsMined</th>\n",
       "      <th>TotalCoinSupply</th>\n",
       "    </tr>\n",
       "  </thead>\n",
       "  <tbody>\n",
       "    <tr>\n",
       "      <th>0</th>\n",
       "      <td>42</td>\n",
       "      <td>42 Coin</td>\n",
       "      <td>Scrypt</td>\n",
       "      <td>PoW/PoS</td>\n",
       "      <td>4.199995e+01</td>\n",
       "      <td>42</td>\n",
       "    </tr>\n",
       "    <tr>\n",
       "      <th>2</th>\n",
       "      <td>404</td>\n",
       "      <td>404Coin</td>\n",
       "      <td>Scrypt</td>\n",
       "      <td>PoW/PoS</td>\n",
       "      <td>1.055185e+09</td>\n",
       "      <td>532000000</td>\n",
       "    </tr>\n",
       "    <tr>\n",
       "      <th>4</th>\n",
       "      <td>808</td>\n",
       "      <td>808</td>\n",
       "      <td>SHA-256</td>\n",
       "      <td>PoW/PoS</td>\n",
       "      <td>0.000000e+00</td>\n",
       "      <td>0</td>\n",
       "    </tr>\n",
       "    <tr>\n",
       "      <th>5</th>\n",
       "      <td>1337</td>\n",
       "      <td>EliteCoin</td>\n",
       "      <td>X13</td>\n",
       "      <td>PoW/PoS</td>\n",
       "      <td>2.927942e+10</td>\n",
       "      <td>314159265359</td>\n",
       "    </tr>\n",
       "    <tr>\n",
       "      <th>7</th>\n",
       "      <td>BTC</td>\n",
       "      <td>Bitcoin</td>\n",
       "      <td>SHA-256</td>\n",
       "      <td>PoW</td>\n",
       "      <td>1.792718e+07</td>\n",
       "      <td>21000000</td>\n",
       "    </tr>\n",
       "  </tbody>\n",
       "</table>\n",
       "</div>"
      ],
      "text/plain": [
       "  Unnamed: 0   CoinName Algorithm ProofType  TotalCoinsMined TotalCoinSupply\n",
       "0         42    42 Coin    Scrypt   PoW/PoS     4.199995e+01              42\n",
       "2        404    404Coin    Scrypt   PoW/PoS     1.055185e+09       532000000\n",
       "4        808        808   SHA-256   PoW/PoS     0.000000e+00               0\n",
       "5       1337  EliteCoin       X13   PoW/PoS     2.927942e+10    314159265359\n",
       "7        BTC    Bitcoin   SHA-256       PoW     1.792718e+07        21000000"
      ]
     },
     "execution_count": 10,
     "metadata": {},
     "output_type": "execute_result"
    }
   ],
   "source": [
    "df.head()"
   ]
  },
  {
   "cell_type": "markdown",
   "id": "982901ea",
   "metadata": {},
   "source": [
    "# Filter for cryptocurrencies that have been mined"
   ]
  },
  {
   "cell_type": "code",
   "execution_count": 11,
   "id": "31663bb7",
   "metadata": {},
   "outputs": [],
   "source": [
    "# Filter to total coins mined greater than zero\n",
    "\n",
    "df = df[df[\"TotalCoinsMined\"] > 0]"
   ]
  },
  {
   "cell_type": "markdown",
   "id": "17660196",
   "metadata": {},
   "source": [
    "# Delete CoinName from original data frame"
   ]
  },
  {
   "cell_type": "code",
   "execution_count": 12,
   "id": "fe91fe8f",
   "metadata": {},
   "outputs": [],
   "source": [
    "df.drop(\"CoinName\", axis = 1, inplace = True)"
   ]
  },
  {
   "cell_type": "markdown",
   "id": "923bfa37",
   "metadata": {},
   "source": [
    "# Convert Algorithm and ProofType into numerical data (use pandas dummies)"
   ]
  },
  {
   "cell_type": "code",
   "execution_count": 20,
   "id": "25afcdaa",
   "metadata": {},
   "outputs": [
    {
     "data": {
      "text/plain": [
       "Unnamed: 0          object\n",
       "Algorithm           object\n",
       "ProofType           object\n",
       "TotalCoinsMined    float64\n",
       "TotalCoinSupply    float64\n",
       "dtype: object"
      ]
     },
     "execution_count": 20,
     "metadata": {},
     "output_type": "execute_result"
    }
   ],
   "source": [
    "# Converting Total Coin Supply to object\n",
    "df[\"TotalCoinSupply\"] = df[\"TotalCoinSupply\"].astype(float)\n",
    "df.dtypes"
   ]
  },
  {
   "cell_type": "code",
   "execution_count": 22,
   "id": "b4420bd7",
   "metadata": {},
   "outputs": [
    {
     "data": {
      "text/html": [
       "<div>\n",
       "<style scoped>\n",
       "    .dataframe tbody tr th:only-of-type {\n",
       "        vertical-align: middle;\n",
       "    }\n",
       "\n",
       "    .dataframe tbody tr th {\n",
       "        vertical-align: top;\n",
       "    }\n",
       "\n",
       "    .dataframe thead th {\n",
       "        text-align: right;\n",
       "    }\n",
       "</style>\n",
       "<table border=\"1\" class=\"dataframe\">\n",
       "  <thead>\n",
       "    <tr style=\"text-align: right;\">\n",
       "      <th></th>\n",
       "      <th>TotalCoinsMined</th>\n",
       "      <th>TotalCoinSupply</th>\n",
       "      <th>Unnamed: 0_1CR</th>\n",
       "      <th>Unnamed: 0_404</th>\n",
       "      <th>Unnamed: 0_42</th>\n",
       "      <th>Unnamed: 0_8BIT</th>\n",
       "      <th>Unnamed: 0_AAC</th>\n",
       "      <th>Unnamed: 0_ABJ</th>\n",
       "      <th>Unnamed: 0_ABS</th>\n",
       "      <th>Unnamed: 0_ABY</th>\n",
       "      <th>...</th>\n",
       "      <th>ProofType_PoW/PoS</th>\n",
       "      <th>ProofType_PoW/PoS</th>\n",
       "      <th>ProofType_PoW/PoW</th>\n",
       "      <th>ProofType_PoW/nPoS</th>\n",
       "      <th>ProofType_Pos</th>\n",
       "      <th>ProofType_Proof of Authority</th>\n",
       "      <th>ProofType_Proof of Trust</th>\n",
       "      <th>ProofType_TPoS</th>\n",
       "      <th>ProofType_Zero-Knowledge Proof</th>\n",
       "      <th>ProofType_dPoW/PoW</th>\n",
       "    </tr>\n",
       "  </thead>\n",
       "  <tbody>\n",
       "    <tr>\n",
       "      <th>0</th>\n",
       "      <td>4.199995e+01</td>\n",
       "      <td>4.200000e+01</td>\n",
       "      <td>0</td>\n",
       "      <td>0</td>\n",
       "      <td>1</td>\n",
       "      <td>0</td>\n",
       "      <td>0</td>\n",
       "      <td>0</td>\n",
       "      <td>0</td>\n",
       "      <td>0</td>\n",
       "      <td>...</td>\n",
       "      <td>1</td>\n",
       "      <td>0</td>\n",
       "      <td>0</td>\n",
       "      <td>0</td>\n",
       "      <td>0</td>\n",
       "      <td>0</td>\n",
       "      <td>0</td>\n",
       "      <td>0</td>\n",
       "      <td>0</td>\n",
       "      <td>0</td>\n",
       "    </tr>\n",
       "    <tr>\n",
       "      <th>2</th>\n",
       "      <td>1.055185e+09</td>\n",
       "      <td>5.320000e+08</td>\n",
       "      <td>0</td>\n",
       "      <td>1</td>\n",
       "      <td>0</td>\n",
       "      <td>0</td>\n",
       "      <td>0</td>\n",
       "      <td>0</td>\n",
       "      <td>0</td>\n",
       "      <td>0</td>\n",
       "      <td>...</td>\n",
       "      <td>1</td>\n",
       "      <td>0</td>\n",
       "      <td>0</td>\n",
       "      <td>0</td>\n",
       "      <td>0</td>\n",
       "      <td>0</td>\n",
       "      <td>0</td>\n",
       "      <td>0</td>\n",
       "      <td>0</td>\n",
       "      <td>0</td>\n",
       "    </tr>\n",
       "    <tr>\n",
       "      <th>5</th>\n",
       "      <td>2.927942e+10</td>\n",
       "      <td>3.141593e+11</td>\n",
       "      <td>0</td>\n",
       "      <td>0</td>\n",
       "      <td>0</td>\n",
       "      <td>0</td>\n",
       "      <td>0</td>\n",
       "      <td>0</td>\n",
       "      <td>0</td>\n",
       "      <td>0</td>\n",
       "      <td>...</td>\n",
       "      <td>1</td>\n",
       "      <td>0</td>\n",
       "      <td>0</td>\n",
       "      <td>0</td>\n",
       "      <td>0</td>\n",
       "      <td>0</td>\n",
       "      <td>0</td>\n",
       "      <td>0</td>\n",
       "      <td>0</td>\n",
       "      <td>0</td>\n",
       "    </tr>\n",
       "    <tr>\n",
       "      <th>7</th>\n",
       "      <td>1.792718e+07</td>\n",
       "      <td>2.100000e+07</td>\n",
       "      <td>0</td>\n",
       "      <td>0</td>\n",
       "      <td>0</td>\n",
       "      <td>0</td>\n",
       "      <td>0</td>\n",
       "      <td>0</td>\n",
       "      <td>0</td>\n",
       "      <td>0</td>\n",
       "      <td>...</td>\n",
       "      <td>0</td>\n",
       "      <td>0</td>\n",
       "      <td>0</td>\n",
       "      <td>0</td>\n",
       "      <td>0</td>\n",
       "      <td>0</td>\n",
       "      <td>0</td>\n",
       "      <td>0</td>\n",
       "      <td>0</td>\n",
       "      <td>0</td>\n",
       "    </tr>\n",
       "    <tr>\n",
       "      <th>8</th>\n",
       "      <td>1.076842e+08</td>\n",
       "      <td>0.000000e+00</td>\n",
       "      <td>0</td>\n",
       "      <td>0</td>\n",
       "      <td>0</td>\n",
       "      <td>0</td>\n",
       "      <td>0</td>\n",
       "      <td>0</td>\n",
       "      <td>0</td>\n",
       "      <td>0</td>\n",
       "      <td>...</td>\n",
       "      <td>0</td>\n",
       "      <td>0</td>\n",
       "      <td>0</td>\n",
       "      <td>0</td>\n",
       "      <td>0</td>\n",
       "      <td>0</td>\n",
       "      <td>0</td>\n",
       "      <td>0</td>\n",
       "      <td>0</td>\n",
       "      <td>0</td>\n",
       "    </tr>\n",
       "  </tbody>\n",
       "</table>\n",
       "<p>5 rows × 627 columns</p>\n",
       "</div>"
      ],
      "text/plain": [
       "   TotalCoinsMined  TotalCoinSupply  Unnamed: 0_1CR  Unnamed: 0_404  \\\n",
       "0     4.199995e+01     4.200000e+01               0               0   \n",
       "2     1.055185e+09     5.320000e+08               0               1   \n",
       "5     2.927942e+10     3.141593e+11               0               0   \n",
       "7     1.792718e+07     2.100000e+07               0               0   \n",
       "8     1.076842e+08     0.000000e+00               0               0   \n",
       "\n",
       "   Unnamed: 0_42  Unnamed: 0_8BIT  Unnamed: 0_AAC  Unnamed: 0_ABJ  \\\n",
       "0              1                0               0               0   \n",
       "2              0                0               0               0   \n",
       "5              0                0               0               0   \n",
       "7              0                0               0               0   \n",
       "8              0                0               0               0   \n",
       "\n",
       "   Unnamed: 0_ABS  Unnamed: 0_ABY  ...  ProofType_PoW/PoS  ProofType_PoW/PoS   \\\n",
       "0               0               0  ...                  1                   0   \n",
       "2               0               0  ...                  1                   0   \n",
       "5               0               0  ...                  1                   0   \n",
       "7               0               0  ...                  0                   0   \n",
       "8               0               0  ...                  0                   0   \n",
       "\n",
       "   ProofType_PoW/PoW  ProofType_PoW/nPoS  ProofType_Pos  \\\n",
       "0                  0                   0              0   \n",
       "2                  0                   0              0   \n",
       "5                  0                   0              0   \n",
       "7                  0                   0              0   \n",
       "8                  0                   0              0   \n",
       "\n",
       "   ProofType_Proof of Authority  ProofType_Proof of Trust  ProofType_TPoS  \\\n",
       "0                             0                         0               0   \n",
       "2                             0                         0               0   \n",
       "5                             0                         0               0   \n",
       "7                             0                         0               0   \n",
       "8                             0                         0               0   \n",
       "\n",
       "   ProofType_Zero-Knowledge Proof  ProofType_dPoW/PoW  \n",
       "0                               0                   0  \n",
       "2                               0                   0  \n",
       "5                               0                   0  \n",
       "7                               0                   0  \n",
       "8                               0                   0  \n",
       "\n",
       "[5 rows x 627 columns]"
      ]
     },
     "execution_count": 22,
     "metadata": {},
     "output_type": "execute_result"
    }
   ],
   "source": [
    "# Create dummies\n",
    "df = pd.get_dummies(df, drop_first = True)\n",
    "df.head()"
   ]
  },
  {
   "cell_type": "markdown",
   "id": "6fff86e3",
   "metadata": {},
   "source": [
    "#### Examine rows and columns - did they change?\n",
    "\n",
    "##### Yes, column count went from 4 to 627"
   ]
  },
  {
   "cell_type": "markdown",
   "id": "5cf0cbab",
   "metadata": {},
   "source": [
    "# Standardize data set"
   ]
  },
  {
   "cell_type": "code",
   "execution_count": 23,
   "id": "ffeca772",
   "metadata": {},
   "outputs": [],
   "source": [
    "from sklearn.preprocessing import StandardScaler"
   ]
  },
  {
   "cell_type": "code",
   "execution_count": 27,
   "id": "3e713957",
   "metadata": {},
   "outputs": [],
   "source": [
    "scaler = StandardScaler()\n",
    "scaler.fit(df)\n",
    "scaled_df = scaler.transform(df)"
   ]
  },
  {
   "cell_type": "markdown",
   "id": "5630df2e",
   "metadata": {},
   "source": [
    "# Perform dimensionality reduction with PCA"
   ]
  },
  {
   "cell_type": "code",
   "execution_count": 28,
   "id": "afa83f8b",
   "metadata": {},
   "outputs": [],
   "source": [
    "from sklearn.decomposition import PCA"
   ]
  },
  {
   "cell_type": "code",
   "execution_count": 29,
   "id": "488da1ec",
   "metadata": {},
   "outputs": [],
   "source": [
    "# Preserve 90% of the explained variance in dimensionality reduction\n",
    "pca = PCA(n_components = 0.9)"
   ]
  },
  {
   "cell_type": "code",
   "execution_count": 30,
   "id": "7220bbb5",
   "metadata": {},
   "outputs": [
    {
     "data": {
      "text/plain": [
       "PCA(n_components=0.9)"
      ]
     },
     "execution_count": 30,
     "metadata": {},
     "output_type": "execute_result"
    }
   ],
   "source": [
    "pca.fit(scaled_df)"
   ]
  },
  {
   "cell_type": "code",
   "execution_count": 32,
   "id": "85697289",
   "metadata": {},
   "outputs": [
    {
     "data": {
      "text/plain": [
       "532"
      ]
     },
     "execution_count": 32,
     "metadata": {},
     "output_type": "execute_result"
    }
   ],
   "source": [
    "pca_df = pca.transform(scaled_df)\n",
    "len(pca_df)"
   ]
  },
  {
   "cell_type": "markdown",
   "id": "2f6e4b34",
   "metadata": {},
   "source": [
    "#### How did the number of the features change?\n",
    "##### Columns count went from 627 to 532"
   ]
  },
  {
   "cell_type": "markdown",
   "id": "7e2d3df4",
   "metadata": {},
   "source": [
    "# Further reduce the dataset dimensions with t-SNE"
   ]
  },
  {
   "cell_type": "code",
   "execution_count": 33,
   "id": "d61c7196",
   "metadata": {},
   "outputs": [],
   "source": [
    "from sklearn.manifold import TSNE"
   ]
  },
  {
   "cell_type": "code",
   "execution_count": 34,
   "id": "e94855ee",
   "metadata": {},
   "outputs": [],
   "source": [
    "# Run t-SNE on the principal components\n",
    "tsne = TSNE()"
   ]
  },
  {
   "cell_type": "code",
   "execution_count": 36,
   "id": "6e614fe3",
   "metadata": {},
   "outputs": [
    {
     "data": {
      "text/plain": [
       "(532, 2)"
      ]
     },
     "execution_count": 36,
     "metadata": {},
     "output_type": "execute_result"
    }
   ],
   "source": [
    "tsne_df = tsne.fit_transform(pca_df)\n",
    "tsne_df.shape"
   ]
  },
  {
   "cell_type": "code",
   "execution_count": 40,
   "id": "d28f0c74",
   "metadata": {},
   "outputs": [
    {
     "data": {
      "text/plain": [
       "<AxesSubplot:xlabel='0', ylabel='1'>"
      ]
     },
     "execution_count": 40,
     "metadata": {},
     "output_type": "execute_result"
    },
    {
     "data": {
      "image/png": "[encoded data removed]",
      "text/plain": [
       "<Figure size 432x288 with 1 Axes>"
      ]
     },
     "metadata": {
      "needs_background": "light"
     },
     "output_type": "display_data"
    }
   ],
   "source": [
    "# Create a scatter plot of the t-SNE output\n",
    "pd.DataFrame(tsne_df).plot(x = 0, y = 1, kind = \"scatter\")"
   ]
  },
  {
   "cell_type": "markdown",
   "id": "8c3bcfc2",
   "metadata": {},
   "source": [
    "#### Observe whether there are distinct clusters or not\n",
    "##### There is a concentrated inner cluster and an outer ring"
   ]
  },
  {
   "cell_type": "markdown",
   "id": "25f9f649",
   "metadata": {},
   "source": [
    "# Cluster Analysis with k-Means\n",
    "## Create an elbow plot to identify the best number of clusters"
   ]
  },
  {
   "cell_type": "code",
   "execution_count": 43,
   "id": "1971e5ef",
   "metadata": {},
   "outputs": [],
   "source": [
    "from sklearn.cluster import KMeans\n",
    "import matplotlib.pyplot as plt\n",
    "%matplotlib inline"
   ]
  },
  {
   "cell_type": "code",
   "execution_count": 44,
   "id": "b3951a91",
   "metadata": {},
   "outputs": [
    {
     "name": "stderr",
     "output_type": "stream",
     "text": [
      "C:\\Users\\Niki Sinclair\\anaconda3\\lib\\site-packages\\sklearn\\cluster\\_kmeans.py:881: UserWarning: KMeans is known to have a memory leak on Windows with MKL, when there are less chunks than available threads. You can avoid it by setting the environment variable OMP_NUM_THREADS=3.\n",
      "  warnings.warn(\n"
     ]
    }
   ],
   "source": [
    "# Use a for-loop to determine the inertia for each k between 1 through 10\n",
    "distortions = []\n",
    "for k in range(1, 10):\n",
    "    model = KMeans(n_clusters = k)\n",
    "    model.fit(tsne_df)\n",
    "    distortions.append(model.inertia_)"
   ]
  },
  {
   "cell_type": "code",
   "execution_count": 45,
   "id": "5bd34979",
   "metadata": {},
   "outputs": [
    {
     "data": {
      "image/png": "[encoded data removed]",
      "text/plain": [
       "<Figure size 432x288 with 1 Axes>"
      ]
     },
     "metadata": {
      "needs_background": "light"
     },
     "output_type": "display_data"
    }
   ],
   "source": [
    "# Elbow plot\n",
    "plt.plot(range(1, 10), distortions, \"bx-\")\n",
    "plt.xlabel(\"k\")\n",
    "plt.ylabel(\"distortion\")\n",
    "plt.title(\"Elbow Plot\")\n",
    "plt.show()"
   ]
  },
  {
   "cell_type": "markdown",
   "id": "68b1388d",
   "metadata": {},
   "source": [
    "#### Determine at which k value appears in elbow plot\n",
    "##### The elbow occurs at 3"
   ]
  },
  {
   "cell_type": "markdown",
   "id": "ea1c8b17",
   "metadata": {},
   "source": [
    "# Client Recommendation\n",
    "\n",
    "### Can the cryptocurrencies be clustered together? If so, into how many clusters?\n",
    "\n",
    "##### It appears that you can cluster cryptocurrencies together and there are three clusters according to my k-means model"
   ]
  },
  {
   "cell_type": "code",
   "execution_count": null,
   "id": "069fcffb",
   "metadata": {},
   "outputs": [],
   "source": []
  }
 ],
 "metadata": {
  "kernelspec": {
   "display_name": "Python 3",
   "language": "python",
   "name": "python3"
  },
  "language_info": {
   "codemirror_mode": {
    "name": "ipython",
    "version": 3
   },
   "file_extension": ".py",
   "mimetype": "text/x-python",
   "name": "python",
   "nbconvert_exporter": "python",
   "pygments_lexer": "ipython3",
   "version": "3.8.8"
  }
 },
 "nbformat": 4,
 "nbformat_minor": 5
}
